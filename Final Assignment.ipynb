{
    "cells": [
        {
            "metadata": {},
            "cell_type": "markdown",
            "source": "# 1. Introduction/Business Problem"
        },
        {
            "metadata": {},
            "cell_type": "markdown",
            "source": "<span style=\"font-family:verdana\"><span style=\"font-size:18px\">\nThe presence of parks, gardens and green open spaces in cities is fundamental for the health and the well-being of citizens; so much so that these areas are called \"green lungs\" of cities. For this reason, it could be interesting to study how much green a city is, especially huge metropolitan cities around the world. To this pourpose, I choose to compare an american metropolis, New York with an european one, London. \nThe goal is to understand which of these two cities is greener and how green areas are scattered within each city. \nIn order to compare New York and London, it is important to take into account also the size of each city in terms of inhabitant number and the extension of the territory.\n\n\n\n\n\n"
        },
        {
            "metadata": {},
            "cell_type": "markdown",
            "source": "# 2. Data"
        },
        {
            "metadata": {},
            "cell_type": "markdown",
            "source": "<span style=\"font-family:verdana\"><span style=\"font-size:18px\">\nTo solve the problem I will consider the following datas:\n \n\n+ <span style=\"font-family:verdana\"><span style=\"font-size:18px\"> I found a list of London's parks and open spaces with its corrisponding extension mesured in hectares and acres on [Wikipedia](https://en.wikipedia.org/wiki/Parks_and_open_spaces_in_London).\n    \n+ <span style=\"font-family:verdana\"><span style=\"font-size:18px\"> Since there are not location datas on the above dataframe, I use **Forsquare API** to get the precise coordinates associated to each park in London.\n    \n+ <span style=\"font-family:verdana\"><span style=\"font-size:18px\"> On [NYC OpenData](https://nycopendata.socrata.com/City-Government/Parks-Zones/4j29-i5ry), I get a .json file with a complete and detailed dataframe containing all important features of New York green zones. I will clean this dataframe by extracting datas referring to parks, location and size.\n    \n+ <span style=\"font-family:verdana\"><span style=\"font-size:18px\">\nThe [**London region**](https://en.wikipedia.org/wiki/Greater_London#:~:text=The%20region%20covers%201%2C572%20km,areas%20outside%20the%20administrative%20region) forms the administrative boundaries of London and is organised into 33 local government districts, the 32 London boroughs and the City of London. The region covers **1,572 km2** and has a population of **8,982,000**.\n\n+ <span style=\"font-family:verdana\"><span style=\"font-size:18px\">\n[**New York City**](https://en.wikipedia.org/wiki/New_York_City) is composed of 5 boroughs, each of which is a county of the State of New York. The boroughs are: Brooklyn, Queens, Manhattan, the Bronx, and Staten Island. New York has an extension of **1,213.37 km2** with a population of **8,399,000**.\n\n<span style=\"font-family:verdana\"><span style=\"font-size:18px\">\nThanks to *territory extension data*, by performing some statistic, one can calculate the total green extension present in London and New York. \nBy above datas one can see that London and New York have a quite similar size. However, to be more precise, one have to consider the total green extension of each city in proportion with them size.\n    \n<span style=\"font-family:verdana\"><span style=\"font-size:18px\">\n*Locations datas* will help to understand the green sparsity in New York and London. I think that the sparsity is important because if the green is well distribuited around the city, more people are able to access it.\nTo visualize this I will use Folium library.\n\n<span style=\"font-family:verdana\"><span style=\"font-size:18px\">\nFinally, by comparing the results obtained, it can be determined: which city has a greater extension of green areas (in proportion to its size), the percentage of green available for each citizen and how green is distributed within each city.\n<span style=\"font-family:verdana\"><span style=\"font-size:18px\">\nIn this section I collect the above datas."
        },
        {
            "metadata": {},
            "cell_type": "markdown",
            "source": "### Libraries"
        },
        {
            "metadata": {},
            "cell_type": "code",
            "source": "import numpy as np # library to handle data in a vectorized manner\n\nimport pandas as pd # library for data analsysis\npd.set_option('display.max_columns', None)\npd.set_option('display.max_rows', None)\n\nimport json # library to handle JSON files\n\n!conda install -c conda-forge geopy --yes \nfrom geopy.geocoders import Nominatim # convert an address into latitude and longitude values\n\nimport requests # library to handle requests\nfrom pandas.io.json import json_normalize # tranform JSON file into a pandas dataframe\n\n# Matplotlib and associated plotting modules\nimport matplotlib.cm as cm\nimport matplotlib.colors as colors\n\n# BeautifulSoup\nfrom bs4 import BeautifulSoup\n\n#!conda install -c conda-forge folium=0.5.0 --yes \n#import folium # map rendering library\n\nprint('Libraries imported.')",
            "execution_count": 1,
            "outputs": [
                {
                    "output_type": "stream",
                    "text": "Solving environment: done\n\n## Package Plan ##\n\n  environment location: /opt/conda/envs/Python36\n\n  added / updated specs: \n    - geopy\n\n\nThe following packages will be downloaded:\n\n    package                    |            build\n    ---------------------------|-----------------\n    python_abi-3.6             |          1_cp36m           4 KB  conda-forge\n    ca-certificates-2020.4.5.1 |       hecc5488_0         146 KB  conda-forge\n    openssl-1.1.1g             |       h516909a_0         2.1 MB  conda-forge\n    geographiclib-1.50         |             py_0          34 KB  conda-forge\n    geopy-1.22.0               |     pyh9f0ad1d_0          63 KB  conda-forge\n    certifi-2020.4.5.1         |   py36h9f0ad1d_0         151 KB  conda-forge\n    ------------------------------------------------------------\n                                           Total:         2.5 MB\n\nThe following NEW packages will be INSTALLED:\n\n    geographiclib:   1.50-py_0           conda-forge\n    geopy:           1.22.0-pyh9f0ad1d_0 conda-forge\n    python_abi:      3.6-1_cp36m         conda-forge\n\nThe following packages will be UPDATED:\n\n    ca-certificates: 2020.1.1-0                      --> 2020.4.5.1-hecc5488_0     conda-forge\n    certifi:         2020.4.5.1-py36_0               --> 2020.4.5.1-py36h9f0ad1d_0 conda-forge\n    openssl:         1.1.1g-h7b6447c_0               --> 1.1.1g-h516909a_0         conda-forge\n\n\nDownloading and Extracting Packages\npython_abi-3.6       | 4 KB      | ##################################### | 100% \nca-certificates-2020 | 146 KB    | ##################################### | 100% \nopenssl-1.1.1g       | 2.1 MB    | ##################################### | 100% \ngeographiclib-1.50   | 34 KB     | ##################################### | 100% \ngeopy-1.22.0         | 63 KB     | ##################################### | 100% \ncertifi-2020.4.5.1   | 151 KB    | ##################################### | 100% \nPreparing transaction: done\nVerifying transaction: done\nExecuting transaction: done\nLibraries imported.\n",
                    "name": "stdout"
                }
            ]
        },
        {
            "metadata": {},
            "cell_type": "markdown",
            "source": "### Parks in London"
        },
        {
            "metadata": {},
            "cell_type": "markdown",
            "source": "<span style=\"font-family:verdana\"><span style=\"font-size:18px\">\nLet's import from [Wikipedia page](https://en.wikipedia.org/wiki/Parks_and_open_spaces_in_London) a dataframe containing some of London green spaces.\nTo this pourpose I use BeautifulSoup."
        },
        {
            "metadata": {},
            "cell_type": "code",
            "source": "req = requests.get(\"https://en.wikipedia.org/wiki/Parks_and_open_spaces_in_London\")\n\nsoup = BeautifulSoup(req.content,'lxml')\n\ntable = soup.find_all('table')[0]\n\ndf = pd.read_html(str(table))\n\nlondon_parks = pd.DataFrame(df[0]) ",
            "execution_count": 2,
            "outputs": []
        },
        {
            "metadata": {},
            "cell_type": "code",
            "source": "london_parks",
            "execution_count": 3,
            "outputs": [
                {
                    "output_type": "execute_result",
                    "execution_count": 3,
                    "data": {
                        "text/plain": "                            name  hectares      acres\n0                   Thames Chase      9842  24,320[8]\n1                  Epping Forest      2476   6,118[9]\n2    Wildspace Conservation Park       645  1,593[10]\n3               Wimbledon Common       460  1,136[11]\n4                Hampstead Heath       320    790[12]\n5           Walthamstow Wetlands       211    520[13]\n6                 Mitcham Common       182    450[14]\n7                     Trent Park       169    418[15]\n8   Hainault Forest Country Park       136    336[16]\n9                 Clapham Common        89    220[17]\n10               Wormwood Scrubs        80        200\n11             Wandsworth Common        73        180\n12            Tooting Bec Common        62        152\n13    South Norwood Country Park        47    116[18]",
                        "text/html": "<div>\n<style scoped>\n    .dataframe tbody tr th:only-of-type {\n        vertical-align: middle;\n    }\n\n    .dataframe tbody tr th {\n        vertical-align: top;\n    }\n\n    .dataframe thead th {\n        text-align: right;\n    }\n</style>\n<table border=\"1\" class=\"dataframe\">\n  <thead>\n    <tr style=\"text-align: right;\">\n      <th></th>\n      <th>name</th>\n      <th>hectares</th>\n      <th>acres</th>\n    </tr>\n  </thead>\n  <tbody>\n    <tr>\n      <th>0</th>\n      <td>Thames Chase</td>\n      <td>9842</td>\n      <td>24,320[8]</td>\n    </tr>\n    <tr>\n      <th>1</th>\n      <td>Epping Forest</td>\n      <td>2476</td>\n      <td>6,118[9]</td>\n    </tr>\n    <tr>\n      <th>2</th>\n      <td>Wildspace Conservation Park</td>\n      <td>645</td>\n      <td>1,593[10]</td>\n    </tr>\n    <tr>\n      <th>3</th>\n      <td>Wimbledon Common</td>\n      <td>460</td>\n      <td>1,136[11]</td>\n    </tr>\n    <tr>\n      <th>4</th>\n      <td>Hampstead Heath</td>\n      <td>320</td>\n      <td>790[12]</td>\n    </tr>\n    <tr>\n      <th>5</th>\n      <td>Walthamstow Wetlands</td>\n      <td>211</td>\n      <td>520[13]</td>\n    </tr>\n    <tr>\n      <th>6</th>\n      <td>Mitcham Common</td>\n      <td>182</td>\n      <td>450[14]</td>\n    </tr>\n    <tr>\n      <th>7</th>\n      <td>Trent Park</td>\n      <td>169</td>\n      <td>418[15]</td>\n    </tr>\n    <tr>\n      <th>8</th>\n      <td>Hainault Forest Country Park</td>\n      <td>136</td>\n      <td>336[16]</td>\n    </tr>\n    <tr>\n      <th>9</th>\n      <td>Clapham Common</td>\n      <td>89</td>\n      <td>220[17]</td>\n    </tr>\n    <tr>\n      <th>10</th>\n      <td>Wormwood Scrubs</td>\n      <td>80</td>\n      <td>200</td>\n    </tr>\n    <tr>\n      <th>11</th>\n      <td>Wandsworth Common</td>\n      <td>73</td>\n      <td>180</td>\n    </tr>\n    <tr>\n      <th>12</th>\n      <td>Tooting Bec Common</td>\n      <td>62</td>\n      <td>152</td>\n    </tr>\n    <tr>\n      <th>13</th>\n      <td>South Norwood Country Park</td>\n      <td>47</td>\n      <td>116[18]</td>\n    </tr>\n  </tbody>\n</table>\n</div>"
                    },
                    "metadata": {}
                }
            ]
        },
        {
            "metadata": {},
            "cell_type": "markdown",
            "source": "<span style=\"font-family:verdana\"><span style=\"font-size:18px\">\nThe above dataframe is composed by three columns: name, hectares and acres. In the name column there are all the parks, in hectares and acres columns there are the size of each park resp. in hectares and acres.\nUnfortunately, this dataframe is not complete. For this reason I need to fill manually the above dataframe with the remaining data from wikipedia."
        },
        {
            "metadata": {},
            "cell_type": "code",
            "source": "# Add data from wikipedia\n\n# Royal Parks\nlondon_parks= london_parks.append({'name': 'Richmond Park','hectares': 955,'acres': 2359.85}, ignore_index=True)\nlondon_parks = london_parks.append({'name': 'Bushy Park','hectares': 450,'acres': 1112}, ignore_index=True)\nlondon_parks = london_parks.append({'name': 'Regent Park','hectares': 197,'acres': 486.79}, ignore_index=True)\nlondon_parks = london_parks.append({'name': 'Hyde Park','hectares': 140,'acres': 346}, ignore_index=True)\nlondon_parks = london_parks.append({'name': 'Kensington Gardens','hectares': 111,'acres': 274}, ignore_index=True)\nlondon_parks = london_parks.append({'name': 'Greenwich Park','hectares': 73,'acres': 180}, ignore_index=True)\nlondon_parks = london_parks.append({'name': 'St. James Park','hectares': 34,'acres': 84}, ignore_index=True)\nlondon_parks = london_parks.append({'name': 'Green Park','hectares': 16,'acres': 39.5}, ignore_index=True)\n\n# Council parks\nlondon_parks = london_parks.append({'name': 'Victoria Park','hectares': 86.18,'acres': 213}, ignore_index=True)\nlondon_parks = london_parks.append({'name': 'Battersea Park','hectares': 83,'acres': 205}, ignore_index=True)\nlondon_parks = london_parks.append({'name': 'Crystal Palace Park','hectares': 80,'acres': 200}, ignore_index=True)\nlondon_parks = london_parks.append({'name': 'Alexandra Park ','hectares': 80,'acres': 197.68}, ignore_index=True)\nlondon_parks = london_parks.append({'name': 'Brockwell Park','hectares': 51,'acres': 126},ignore_index=True)\n\nlondon_parks",
            "execution_count": 4,
            "outputs": [
                {
                    "output_type": "execute_result",
                    "execution_count": 4,
                    "data": {
                        "text/plain": "                            name  hectares      acres\n0                   Thames Chase   9842.00  24,320[8]\n1                  Epping Forest   2476.00   6,118[9]\n2    Wildspace Conservation Park    645.00  1,593[10]\n3               Wimbledon Common    460.00  1,136[11]\n4                Hampstead Heath    320.00    790[12]\n5           Walthamstow Wetlands    211.00    520[13]\n6                 Mitcham Common    182.00    450[14]\n7                     Trent Park    169.00    418[15]\n8   Hainault Forest Country Park    136.00    336[16]\n9                 Clapham Common     89.00    220[17]\n10               Wormwood Scrubs     80.00        200\n11             Wandsworth Common     73.00        180\n12            Tooting Bec Common     62.00        152\n13    South Norwood Country Park     47.00    116[18]\n14                 Richmond Park    955.00    2359.85\n15                    Bushy Park    450.00       1112\n16                   Regent Park    197.00     486.79\n17                     Hyde Park    140.00        346\n18            Kensington Gardens    111.00        274\n19                Greenwich Park     73.00        180\n20                St. James Park     34.00         84\n21                    Green Park     16.00       39.5\n22                 Victoria Park     86.18        213\n23                Battersea Park     83.00        205\n24           Crystal Palace Park     80.00        200\n25               Alexandra Park      80.00     197.68\n26                Brockwell Park     51.00        126",
                        "text/html": "<div>\n<style scoped>\n    .dataframe tbody tr th:only-of-type {\n        vertical-align: middle;\n    }\n\n    .dataframe tbody tr th {\n        vertical-align: top;\n    }\n\n    .dataframe thead th {\n        text-align: right;\n    }\n</style>\n<table border=\"1\" class=\"dataframe\">\n  <thead>\n    <tr style=\"text-align: right;\">\n      <th></th>\n      <th>name</th>\n      <th>hectares</th>\n      <th>acres</th>\n    </tr>\n  </thead>\n  <tbody>\n    <tr>\n      <th>0</th>\n      <td>Thames Chase</td>\n      <td>9842.00</td>\n      <td>24,320[8]</td>\n    </tr>\n    <tr>\n      <th>1</th>\n      <td>Epping Forest</td>\n      <td>2476.00</td>\n      <td>6,118[9]</td>\n    </tr>\n    <tr>\n      <th>2</th>\n      <td>Wildspace Conservation Park</td>\n      <td>645.00</td>\n      <td>1,593[10]</td>\n    </tr>\n    <tr>\n      <th>3</th>\n      <td>Wimbledon Common</td>\n      <td>460.00</td>\n      <td>1,136[11]</td>\n    </tr>\n    <tr>\n      <th>4</th>\n      <td>Hampstead Heath</td>\n      <td>320.00</td>\n      <td>790[12]</td>\n    </tr>\n    <tr>\n      <th>5</th>\n      <td>Walthamstow Wetlands</td>\n      <td>211.00</td>\n      <td>520[13]</td>\n    </tr>\n    <tr>\n      <th>6</th>\n      <td>Mitcham Common</td>\n      <td>182.00</td>\n      <td>450[14]</td>\n    </tr>\n    <tr>\n      <th>7</th>\n      <td>Trent Park</td>\n      <td>169.00</td>\n      <td>418[15]</td>\n    </tr>\n    <tr>\n      <th>8</th>\n      <td>Hainault Forest Country Park</td>\n      <td>136.00</td>\n      <td>336[16]</td>\n    </tr>\n    <tr>\n      <th>9</th>\n      <td>Clapham Common</td>\n      <td>89.00</td>\n      <td>220[17]</td>\n    </tr>\n    <tr>\n      <th>10</th>\n      <td>Wormwood Scrubs</td>\n      <td>80.00</td>\n      <td>200</td>\n    </tr>\n    <tr>\n      <th>11</th>\n      <td>Wandsworth Common</td>\n      <td>73.00</td>\n      <td>180</td>\n    </tr>\n    <tr>\n      <th>12</th>\n      <td>Tooting Bec Common</td>\n      <td>62.00</td>\n      <td>152</td>\n    </tr>\n    <tr>\n      <th>13</th>\n      <td>South Norwood Country Park</td>\n      <td>47.00</td>\n      <td>116[18]</td>\n    </tr>\n    <tr>\n      <th>14</th>\n      <td>Richmond Park</td>\n      <td>955.00</td>\n      <td>2359.85</td>\n    </tr>\n    <tr>\n      <th>15</th>\n      <td>Bushy Park</td>\n      <td>450.00</td>\n      <td>1112</td>\n    </tr>\n    <tr>\n      <th>16</th>\n      <td>Regent Park</td>\n      <td>197.00</td>\n      <td>486.79</td>\n    </tr>\n    <tr>\n      <th>17</th>\n      <td>Hyde Park</td>\n      <td>140.00</td>\n      <td>346</td>\n    </tr>\n    <tr>\n      <th>18</th>\n      <td>Kensington Gardens</td>\n      <td>111.00</td>\n      <td>274</td>\n    </tr>\n    <tr>\n      <th>19</th>\n      <td>Greenwich Park</td>\n      <td>73.00</td>\n      <td>180</td>\n    </tr>\n    <tr>\n      <th>20</th>\n      <td>St. James Park</td>\n      <td>34.00</td>\n      <td>84</td>\n    </tr>\n    <tr>\n      <th>21</th>\n      <td>Green Park</td>\n      <td>16.00</td>\n      <td>39.5</td>\n    </tr>\n    <tr>\n      <th>22</th>\n      <td>Victoria Park</td>\n      <td>86.18</td>\n      <td>213</td>\n    </tr>\n    <tr>\n      <th>23</th>\n      <td>Battersea Park</td>\n      <td>83.00</td>\n      <td>205</td>\n    </tr>\n    <tr>\n      <th>24</th>\n      <td>Crystal Palace Park</td>\n      <td>80.00</td>\n      <td>200</td>\n    </tr>\n    <tr>\n      <th>25</th>\n      <td>Alexandra Park</td>\n      <td>80.00</td>\n      <td>197.68</td>\n    </tr>\n    <tr>\n      <th>26</th>\n      <td>Brockwell Park</td>\n      <td>51.00</td>\n      <td>126</td>\n    </tr>\n  </tbody>\n</table>\n</div>"
                    },
                    "metadata": {}
                }
            ]
        },
        {
            "metadata": {},
            "cell_type": "markdown",
            "source": "<span style=\"font-family:verdana\"><span style=\"font-size:18px\">\nIn order to have no problems in searching coordinates, let's simplify the name of Wildspace Conservation Park and Hainault Forest Country Park."
        },
        {
            "metadata": {},
            "cell_type": "code",
            "source": "london_parks['name'][2]= 'Wildspace Park'\nlondon_parks['name'][8]= 'Hainault Park'",
            "execution_count": 5,
            "outputs": [
                {
                    "output_type": "stream",
                    "text": "/opt/conda/envs/Python36/lib/python3.6/site-packages/ipykernel/__main__.py:1: SettingWithCopyWarning: \nA value is trying to be set on a copy of a slice from a DataFrame\n\nSee the caveats in the documentation: http://pandas.pydata.org/pandas-docs/stable/indexing.html#indexing-view-versus-copy\n  if __name__ == '__main__':\n/opt/conda/envs/Python36/lib/python3.6/site-packages/ipykernel/__main__.py:2: SettingWithCopyWarning: \nA value is trying to be set on a copy of a slice from a DataFrame\n\nSee the caveats in the documentation: http://pandas.pydata.org/pandas-docs/stable/indexing.html#indexing-view-versus-copy\n  from ipykernel import kernelapp as app\n",
                    "name": "stderr"
                }
            ]
        },
        {
            "metadata": {},
            "cell_type": "code",
            "source": "london_parks",
            "execution_count": 6,
            "outputs": [
                {
                    "output_type": "execute_result",
                    "execution_count": 6,
                    "data": {
                        "text/plain": "                          name  hectares      acres\n0                 Thames Chase   9842.00  24,320[8]\n1                Epping Forest   2476.00   6,118[9]\n2               Wildspace Park    645.00  1,593[10]\n3             Wimbledon Common    460.00  1,136[11]\n4              Hampstead Heath    320.00    790[12]\n5         Walthamstow Wetlands    211.00    520[13]\n6               Mitcham Common    182.00    450[14]\n7                   Trent Park    169.00    418[15]\n8                Hainault Park    136.00    336[16]\n9               Clapham Common     89.00    220[17]\n10             Wormwood Scrubs     80.00        200\n11           Wandsworth Common     73.00        180\n12          Tooting Bec Common     62.00        152\n13  South Norwood Country Park     47.00    116[18]\n14               Richmond Park    955.00    2359.85\n15                  Bushy Park    450.00       1112\n16                 Regent Park    197.00     486.79\n17                   Hyde Park    140.00        346\n18          Kensington Gardens    111.00        274\n19              Greenwich Park     73.00        180\n20              St. James Park     34.00         84\n21                  Green Park     16.00       39.5\n22               Victoria Park     86.18        213\n23              Battersea Park     83.00        205\n24         Crystal Palace Park     80.00        200\n25             Alexandra Park      80.00     197.68\n26              Brockwell Park     51.00        126",
                        "text/html": "<div>\n<style scoped>\n    .dataframe tbody tr th:only-of-type {\n        vertical-align: middle;\n    }\n\n    .dataframe tbody tr th {\n        vertical-align: top;\n    }\n\n    .dataframe thead th {\n        text-align: right;\n    }\n</style>\n<table border=\"1\" class=\"dataframe\">\n  <thead>\n    <tr style=\"text-align: right;\">\n      <th></th>\n      <th>name</th>\n      <th>hectares</th>\n      <th>acres</th>\n    </tr>\n  </thead>\n  <tbody>\n    <tr>\n      <th>0</th>\n      <td>Thames Chase</td>\n      <td>9842.00</td>\n      <td>24,320[8]</td>\n    </tr>\n    <tr>\n      <th>1</th>\n      <td>Epping Forest</td>\n      <td>2476.00</td>\n      <td>6,118[9]</td>\n    </tr>\n    <tr>\n      <th>2</th>\n      <td>Wildspace Park</td>\n      <td>645.00</td>\n      <td>1,593[10]</td>\n    </tr>\n    <tr>\n      <th>3</th>\n      <td>Wimbledon Common</td>\n      <td>460.00</td>\n      <td>1,136[11]</td>\n    </tr>\n    <tr>\n      <th>4</th>\n      <td>Hampstead Heath</td>\n      <td>320.00</td>\n      <td>790[12]</td>\n    </tr>\n    <tr>\n      <th>5</th>\n      <td>Walthamstow Wetlands</td>\n      <td>211.00</td>\n      <td>520[13]</td>\n    </tr>\n    <tr>\n      <th>6</th>\n      <td>Mitcham Common</td>\n      <td>182.00</td>\n      <td>450[14]</td>\n    </tr>\n    <tr>\n      <th>7</th>\n      <td>Trent Park</td>\n      <td>169.00</td>\n      <td>418[15]</td>\n    </tr>\n    <tr>\n      <th>8</th>\n      <td>Hainault Park</td>\n      <td>136.00</td>\n      <td>336[16]</td>\n    </tr>\n    <tr>\n      <th>9</th>\n      <td>Clapham Common</td>\n      <td>89.00</td>\n      <td>220[17]</td>\n    </tr>\n    <tr>\n      <th>10</th>\n      <td>Wormwood Scrubs</td>\n      <td>80.00</td>\n      <td>200</td>\n    </tr>\n    <tr>\n      <th>11</th>\n      <td>Wandsworth Common</td>\n      <td>73.00</td>\n      <td>180</td>\n    </tr>\n    <tr>\n      <th>12</th>\n      <td>Tooting Bec Common</td>\n      <td>62.00</td>\n      <td>152</td>\n    </tr>\n    <tr>\n      <th>13</th>\n      <td>South Norwood Country Park</td>\n      <td>47.00</td>\n      <td>116[18]</td>\n    </tr>\n    <tr>\n      <th>14</th>\n      <td>Richmond Park</td>\n      <td>955.00</td>\n      <td>2359.85</td>\n    </tr>\n    <tr>\n      <th>15</th>\n      <td>Bushy Park</td>\n      <td>450.00</td>\n      <td>1112</td>\n    </tr>\n    <tr>\n      <th>16</th>\n      <td>Regent Park</td>\n      <td>197.00</td>\n      <td>486.79</td>\n    </tr>\n    <tr>\n      <th>17</th>\n      <td>Hyde Park</td>\n      <td>140.00</td>\n      <td>346</td>\n    </tr>\n    <tr>\n      <th>18</th>\n      <td>Kensington Gardens</td>\n      <td>111.00</td>\n      <td>274</td>\n    </tr>\n    <tr>\n      <th>19</th>\n      <td>Greenwich Park</td>\n      <td>73.00</td>\n      <td>180</td>\n    </tr>\n    <tr>\n      <th>20</th>\n      <td>St. James Park</td>\n      <td>34.00</td>\n      <td>84</td>\n    </tr>\n    <tr>\n      <th>21</th>\n      <td>Green Park</td>\n      <td>16.00</td>\n      <td>39.5</td>\n    </tr>\n    <tr>\n      <th>22</th>\n      <td>Victoria Park</td>\n      <td>86.18</td>\n      <td>213</td>\n    </tr>\n    <tr>\n      <th>23</th>\n      <td>Battersea Park</td>\n      <td>83.00</td>\n      <td>205</td>\n    </tr>\n    <tr>\n      <th>24</th>\n      <td>Crystal Palace Park</td>\n      <td>80.00</td>\n      <td>200</td>\n    </tr>\n    <tr>\n      <th>25</th>\n      <td>Alexandra Park</td>\n      <td>80.00</td>\n      <td>197.68</td>\n    </tr>\n    <tr>\n      <th>26</th>\n      <td>Brockwell Park</td>\n      <td>51.00</td>\n      <td>126</td>\n    </tr>\n  </tbody>\n</table>\n</div>"
                    },
                    "metadata": {}
                }
            ]
        },
        {
            "metadata": {},
            "cell_type": "markdown",
            "source": "## Forsquare to get the coordinates"
        },
        {
            "metadata": {},
            "cell_type": "code",
            "source": "CLIENT_ID = 'NX1WPC5VTHDOD00ZA5NJIMN3UO4QRCYU24LRXUU1SN1XOCN3' # your Foursquare ID\nCLIENT_SECRET = 'YF5WPODSRDE0FVO4QXRABZSZCWDZ4S03SZMGT3A2JEWOU0GN' # your Foursquare Secret\nVERSION = '20180604'\nLIMIT = 30\nprint('Your credentails:')\nprint('CLIENT_ID: ' + CLIENT_ID)\nprint('CLIENT_SECRET:' + CLIENT_SECRET)",
            "execution_count": 7,
            "outputs": [
                {
                    "output_type": "stream",
                    "text": "Your credentails:\nCLIENT_ID: NX1WPC5VTHDOD00ZA5NJIMN3UO4QRCYU24LRXUU1SN1XOCN3\nCLIENT_SECRET:YF5WPODSRDE0FVO4QXRABZSZCWDZ4S03SZMGT3A2JEWOU0GN\n",
                    "name": "stdout"
                }
            ]
        },
        {
            "metadata": {},
            "cell_type": "markdown",
            "source": "<span style=\"font-family:verdana\"><span style=\"font-size:18px\">\nLet's create a new dataframe containing the coordinates of each park."
        },
        {
            "metadata": {},
            "cell_type": "code",
            "source": "# define the dataframe columns\ncolumn_names = ['name','latitude','longitude'] \n\n# instantiate the dataframe\nparks_coordinates = pd.DataFrame(columns=column_names)",
            "execution_count": 10,
            "outputs": []
        },
        {
            "metadata": {},
            "cell_type": "code",
            "source": "# Fill the dataframe\n\nfor i in range(0,27):\n\n address= london_parks['name'][i]+', London'\n\n geolocator = Nominatim(user_agent=\"foursquare_agent\")\n location = geolocator.geocode(address)\n latitude = location.latitude\n longitude = location.longitude\n\n parks_coordinates = parks_coordinates.append({'name': london_parks['name'][i] ,'latitude': latitude,'longitude': longitude}, ignore_index=True)\n\n ",
            "execution_count": 12,
            "outputs": []
        },
        {
            "metadata": {},
            "cell_type": "code",
            "source": "parks_coordinates",
            "execution_count": 13,
            "outputs": [
                {
                    "output_type": "execute_result",
                    "execution_count": 13,
                    "data": {
                        "text/plain": "                          name   latitude  longitude\n0                 Thames Chase  51.609674  -0.115491\n1                Epping Forest  51.655222   0.172040\n2               Wildspace Park  51.631335  -0.106465\n3             Wimbledon Common  51.427074  -0.244198\n4              Hampstead Heath  51.563982  -0.167187\n5         Walthamstow Wetlands  51.586531  -0.049506\n6               Mitcham Common  51.393623  -0.137502\n7                   Trent Park  51.659165  -0.141826\n8                Hainault Park  51.603316   0.093360\n9               Clapham Common  51.462075  -0.137359\n10             Wormwood Scrubs  51.521380  -0.240439\n11           Wandsworth Common  51.448485  -0.167650\n12          Tooting Bec Common  51.434508  -0.145276\n13  South Norwood Country Park  51.396475  -0.056820\n14               Richmond Park  51.438512  -0.274735\n15                  Bushy Park  51.416935  -0.337109\n16                 Regent Park  51.514186  -0.036568\n17                   Hyde Park  51.507489  -0.162237\n18          Kensington Gardens  51.506646  -0.180427\n19              Greenwich Park  51.477228   0.000925\n20              St. James Park  51.499282  -0.134594\n21                  Green Park  51.506619  -0.142911\n22               Victoria Park  51.539042  -0.034311\n23              Battersea Park  51.479252  -0.157096\n24         Crystal Palace Park  51.417595  -0.064800\n25             Alexandra Park   51.593499  -0.127446\n26              Brockwell Park  51.450680  -0.106149",
                        "text/html": "<div>\n<style scoped>\n    .dataframe tbody tr th:only-of-type {\n        vertical-align: middle;\n    }\n\n    .dataframe tbody tr th {\n        vertical-align: top;\n    }\n\n    .dataframe thead th {\n        text-align: right;\n    }\n</style>\n<table border=\"1\" class=\"dataframe\">\n  <thead>\n    <tr style=\"text-align: right;\">\n      <th></th>\n      <th>name</th>\n      <th>latitude</th>\n      <th>longitude</th>\n    </tr>\n  </thead>\n  <tbody>\n    <tr>\n      <th>0</th>\n      <td>Thames Chase</td>\n      <td>51.609674</td>\n      <td>-0.115491</td>\n    </tr>\n    <tr>\n      <th>1</th>\n      <td>Epping Forest</td>\n      <td>51.655222</td>\n      <td>0.172040</td>\n    </tr>\n    <tr>\n      <th>2</th>\n      <td>Wildspace Park</td>\n      <td>51.631335</td>\n      <td>-0.106465</td>\n    </tr>\n    <tr>\n      <th>3</th>\n      <td>Wimbledon Common</td>\n      <td>51.427074</td>\n      <td>-0.244198</td>\n    </tr>\n    <tr>\n      <th>4</th>\n      <td>Hampstead Heath</td>\n      <td>51.563982</td>\n      <td>-0.167187</td>\n    </tr>\n    <tr>\n      <th>5</th>\n      <td>Walthamstow Wetlands</td>\n      <td>51.586531</td>\n      <td>-0.049506</td>\n    </tr>\n    <tr>\n      <th>6</th>\n      <td>Mitcham Common</td>\n      <td>51.393623</td>\n      <td>-0.137502</td>\n    </tr>\n    <tr>\n      <th>7</th>\n      <td>Trent Park</td>\n      <td>51.659165</td>\n      <td>-0.141826</td>\n    </tr>\n    <tr>\n      <th>8</th>\n      <td>Hainault Park</td>\n      <td>51.603316</td>\n      <td>0.093360</td>\n    </tr>\n    <tr>\n      <th>9</th>\n      <td>Clapham Common</td>\n      <td>51.462075</td>\n      <td>-0.137359</td>\n    </tr>\n    <tr>\n      <th>10</th>\n      <td>Wormwood Scrubs</td>\n      <td>51.521380</td>\n      <td>-0.240439</td>\n    </tr>\n    <tr>\n      <th>11</th>\n      <td>Wandsworth Common</td>\n      <td>51.448485</td>\n      <td>-0.167650</td>\n    </tr>\n    <tr>\n      <th>12</th>\n      <td>Tooting Bec Common</td>\n      <td>51.434508</td>\n      <td>-0.145276</td>\n    </tr>\n    <tr>\n      <th>13</th>\n      <td>South Norwood Country Park</td>\n      <td>51.396475</td>\n      <td>-0.056820</td>\n    </tr>\n    <tr>\n      <th>14</th>\n      <td>Richmond Park</td>\n      <td>51.438512</td>\n      <td>-0.274735</td>\n    </tr>\n    <tr>\n      <th>15</th>\n      <td>Bushy Park</td>\n      <td>51.416935</td>\n      <td>-0.337109</td>\n    </tr>\n    <tr>\n      <th>16</th>\n      <td>Regent Park</td>\n      <td>51.514186</td>\n      <td>-0.036568</td>\n    </tr>\n    <tr>\n      <th>17</th>\n      <td>Hyde Park</td>\n      <td>51.507489</td>\n      <td>-0.162237</td>\n    </tr>\n    <tr>\n      <th>18</th>\n      <td>Kensington Gardens</td>\n      <td>51.506646</td>\n      <td>-0.180427</td>\n    </tr>\n    <tr>\n      <th>19</th>\n      <td>Greenwich Park</td>\n      <td>51.477228</td>\n      <td>0.000925</td>\n    </tr>\n    <tr>\n      <th>20</th>\n      <td>St. James Park</td>\n      <td>51.499282</td>\n      <td>-0.134594</td>\n    </tr>\n    <tr>\n      <th>21</th>\n      <td>Green Park</td>\n      <td>51.506619</td>\n      <td>-0.142911</td>\n    </tr>\n    <tr>\n      <th>22</th>\n      <td>Victoria Park</td>\n      <td>51.539042</td>\n      <td>-0.034311</td>\n    </tr>\n    <tr>\n      <th>23</th>\n      <td>Battersea Park</td>\n      <td>51.479252</td>\n      <td>-0.157096</td>\n    </tr>\n    <tr>\n      <th>24</th>\n      <td>Crystal Palace Park</td>\n      <td>51.417595</td>\n      <td>-0.064800</td>\n    </tr>\n    <tr>\n      <th>25</th>\n      <td>Alexandra Park</td>\n      <td>51.593499</td>\n      <td>-0.127446</td>\n    </tr>\n    <tr>\n      <th>26</th>\n      <td>Brockwell Park</td>\n      <td>51.450680</td>\n      <td>-0.106149</td>\n    </tr>\n  </tbody>\n</table>\n</div>"
                    },
                    "metadata": {}
                }
            ]
        },
        {
            "metadata": {},
            "cell_type": "markdown",
            "source": "<span style=\"font-family:verdana\"><span style=\"font-size:18px\">\nI merge now the above dataframes: *london_parks* and *parks coordinates*."
        },
        {
            "metadata": {},
            "cell_type": "code",
            "source": "df_london_parks = london_parks.merge(parks_coordinates)",
            "execution_count": 14,
            "outputs": []
        },
        {
            "metadata": {},
            "cell_type": "code",
            "source": "df_london_parks",
            "execution_count": 15,
            "outputs": [
                {
                    "output_type": "execute_result",
                    "execution_count": 15,
                    "data": {
                        "text/plain": "                          name  hectares      acres   latitude  longitude\n0                 Thames Chase   9842.00  24,320[8]  51.609674  -0.115491\n1                Epping Forest   2476.00   6,118[9]  51.655222   0.172040\n2               Wildspace Park    645.00  1,593[10]  51.631335  -0.106465\n3             Wimbledon Common    460.00  1,136[11]  51.427074  -0.244198\n4              Hampstead Heath    320.00    790[12]  51.563982  -0.167187\n5         Walthamstow Wetlands    211.00    520[13]  51.586531  -0.049506\n6               Mitcham Common    182.00    450[14]  51.393623  -0.137502\n7                   Trent Park    169.00    418[15]  51.659165  -0.141826\n8                Hainault Park    136.00    336[16]  51.603316   0.093360\n9               Clapham Common     89.00    220[17]  51.462075  -0.137359\n10             Wormwood Scrubs     80.00        200  51.521380  -0.240439\n11           Wandsworth Common     73.00        180  51.448485  -0.167650\n12          Tooting Bec Common     62.00        152  51.434508  -0.145276\n13  South Norwood Country Park     47.00    116[18]  51.396475  -0.056820\n14               Richmond Park    955.00    2359.85  51.438512  -0.274735\n15                  Bushy Park    450.00       1112  51.416935  -0.337109\n16                 Regent Park    197.00     486.79  51.514186  -0.036568\n17                   Hyde Park    140.00        346  51.507489  -0.162237\n18          Kensington Gardens    111.00        274  51.506646  -0.180427\n19              Greenwich Park     73.00        180  51.477228   0.000925\n20              St. James Park     34.00         84  51.499282  -0.134594\n21                  Green Park     16.00       39.5  51.506619  -0.142911\n22               Victoria Park     86.18        213  51.539042  -0.034311\n23              Battersea Park     83.00        205  51.479252  -0.157096\n24         Crystal Palace Park     80.00        200  51.417595  -0.064800\n25             Alexandra Park      80.00     197.68  51.593499  -0.127446\n26              Brockwell Park     51.00        126  51.450680  -0.106149",
                        "text/html": "<div>\n<style scoped>\n    .dataframe tbody tr th:only-of-type {\n        vertical-align: middle;\n    }\n\n    .dataframe tbody tr th {\n        vertical-align: top;\n    }\n\n    .dataframe thead th {\n        text-align: right;\n    }\n</style>\n<table border=\"1\" class=\"dataframe\">\n  <thead>\n    <tr style=\"text-align: right;\">\n      <th></th>\n      <th>name</th>\n      <th>hectares</th>\n      <th>acres</th>\n      <th>latitude</th>\n      <th>longitude</th>\n    </tr>\n  </thead>\n  <tbody>\n    <tr>\n      <th>0</th>\n      <td>Thames Chase</td>\n      <td>9842.00</td>\n      <td>24,320[8]</td>\n      <td>51.609674</td>\n      <td>-0.115491</td>\n    </tr>\n    <tr>\n      <th>1</th>\n      <td>Epping Forest</td>\n      <td>2476.00</td>\n      <td>6,118[9]</td>\n      <td>51.655222</td>\n      <td>0.172040</td>\n    </tr>\n    <tr>\n      <th>2</th>\n      <td>Wildspace Park</td>\n      <td>645.00</td>\n      <td>1,593[10]</td>\n      <td>51.631335</td>\n      <td>-0.106465</td>\n    </tr>\n    <tr>\n      <th>3</th>\n      <td>Wimbledon Common</td>\n      <td>460.00</td>\n      <td>1,136[11]</td>\n      <td>51.427074</td>\n      <td>-0.244198</td>\n    </tr>\n    <tr>\n      <th>4</th>\n      <td>Hampstead Heath</td>\n      <td>320.00</td>\n      <td>790[12]</td>\n      <td>51.563982</td>\n      <td>-0.167187</td>\n    </tr>\n    <tr>\n      <th>5</th>\n      <td>Walthamstow Wetlands</td>\n      <td>211.00</td>\n      <td>520[13]</td>\n      <td>51.586531</td>\n      <td>-0.049506</td>\n    </tr>\n    <tr>\n      <th>6</th>\n      <td>Mitcham Common</td>\n      <td>182.00</td>\n      <td>450[14]</td>\n      <td>51.393623</td>\n      <td>-0.137502</td>\n    </tr>\n    <tr>\n      <th>7</th>\n      <td>Trent Park</td>\n      <td>169.00</td>\n      <td>418[15]</td>\n      <td>51.659165</td>\n      <td>-0.141826</td>\n    </tr>\n    <tr>\n      <th>8</th>\n      <td>Hainault Park</td>\n      <td>136.00</td>\n      <td>336[16]</td>\n      <td>51.603316</td>\n      <td>0.093360</td>\n    </tr>\n    <tr>\n      <th>9</th>\n      <td>Clapham Common</td>\n      <td>89.00</td>\n      <td>220[17]</td>\n      <td>51.462075</td>\n      <td>-0.137359</td>\n    </tr>\n    <tr>\n      <th>10</th>\n      <td>Wormwood Scrubs</td>\n      <td>80.00</td>\n      <td>200</td>\n      <td>51.521380</td>\n      <td>-0.240439</td>\n    </tr>\n    <tr>\n      <th>11</th>\n      <td>Wandsworth Common</td>\n      <td>73.00</td>\n      <td>180</td>\n      <td>51.448485</td>\n      <td>-0.167650</td>\n    </tr>\n    <tr>\n      <th>12</th>\n      <td>Tooting Bec Common</td>\n      <td>62.00</td>\n      <td>152</td>\n      <td>51.434508</td>\n      <td>-0.145276</td>\n    </tr>\n    <tr>\n      <th>13</th>\n      <td>South Norwood Country Park</td>\n      <td>47.00</td>\n      <td>116[18]</td>\n      <td>51.396475</td>\n      <td>-0.056820</td>\n    </tr>\n    <tr>\n      <th>14</th>\n      <td>Richmond Park</td>\n      <td>955.00</td>\n      <td>2359.85</td>\n      <td>51.438512</td>\n      <td>-0.274735</td>\n    </tr>\n    <tr>\n      <th>15</th>\n      <td>Bushy Park</td>\n      <td>450.00</td>\n      <td>1112</td>\n      <td>51.416935</td>\n      <td>-0.337109</td>\n    </tr>\n    <tr>\n      <th>16</th>\n      <td>Regent Park</td>\n      <td>197.00</td>\n      <td>486.79</td>\n      <td>51.514186</td>\n      <td>-0.036568</td>\n    </tr>\n    <tr>\n      <th>17</th>\n      <td>Hyde Park</td>\n      <td>140.00</td>\n      <td>346</td>\n      <td>51.507489</td>\n      <td>-0.162237</td>\n    </tr>\n    <tr>\n      <th>18</th>\n      <td>Kensington Gardens</td>\n      <td>111.00</td>\n      <td>274</td>\n      <td>51.506646</td>\n      <td>-0.180427</td>\n    </tr>\n    <tr>\n      <th>19</th>\n      <td>Greenwich Park</td>\n      <td>73.00</td>\n      <td>180</td>\n      <td>51.477228</td>\n      <td>0.000925</td>\n    </tr>\n    <tr>\n      <th>20</th>\n      <td>St. James Park</td>\n      <td>34.00</td>\n      <td>84</td>\n      <td>51.499282</td>\n      <td>-0.134594</td>\n    </tr>\n    <tr>\n      <th>21</th>\n      <td>Green Park</td>\n      <td>16.00</td>\n      <td>39.5</td>\n      <td>51.506619</td>\n      <td>-0.142911</td>\n    </tr>\n    <tr>\n      <th>22</th>\n      <td>Victoria Park</td>\n      <td>86.18</td>\n      <td>213</td>\n      <td>51.539042</td>\n      <td>-0.034311</td>\n    </tr>\n    <tr>\n      <th>23</th>\n      <td>Battersea Park</td>\n      <td>83.00</td>\n      <td>205</td>\n      <td>51.479252</td>\n      <td>-0.157096</td>\n    </tr>\n    <tr>\n      <th>24</th>\n      <td>Crystal Palace Park</td>\n      <td>80.00</td>\n      <td>200</td>\n      <td>51.417595</td>\n      <td>-0.064800</td>\n    </tr>\n    <tr>\n      <th>25</th>\n      <td>Alexandra Park</td>\n      <td>80.00</td>\n      <td>197.68</td>\n      <td>51.593499</td>\n      <td>-0.127446</td>\n    </tr>\n    <tr>\n      <th>26</th>\n      <td>Brockwell Park</td>\n      <td>51.00</td>\n      <td>126</td>\n      <td>51.450680</td>\n      <td>-0.106149</td>\n    </tr>\n  </tbody>\n</table>\n</div>"
                    },
                    "metadata": {}
                }
            ]
        },
        {
            "metadata": {},
            "cell_type": "markdown",
            "source": "### New York Parks"
        },
        {
            "metadata": {},
            "cell_type": "markdown",
            "source": "<span style=\"font-family:verdana\"><span style=\"font-size:18px\">\nLet's download New York Parks dataframe and load the.json file from [NYC Open Data](https://nycopendata.socrata.com/City-Government/Parks-Zones/4j29-i5ry)."
        },
        {
            "metadata": {},
            "cell_type": "code",
            "source": "!wget -q -O 'newyork_parks.json' https://data.cityofnewyork.us/resource/4j29-i5ry.json\nprint('Data downloaded!')",
            "execution_count": 16,
            "outputs": [
                {
                    "output_type": "stream",
                    "text": "Data downloaded!\n",
                    "name": "stdout"
                }
            ]
        },
        {
            "metadata": {},
            "cell_type": "code",
            "source": "with open('newyork_parks.json') as json_data:\n    newyork_parks = json.load(json_data)",
            "execution_count": 17,
            "outputs": []
        },
        {
            "metadata": {
                "scrolled": false
            },
            "cell_type": "code",
            "source": "# let's explore the first data\n\nnewyork_parks[0]",
            "execution_count": 18,
            "outputs": [
                {
                    "output_type": "execute_result",
                    "execution_count": 18,
                    "data": {
                        "text/plain": "{'acres': '2.27347393',\n 'borough': 'B',\n 'communityboard': '313',\n 'councildistrict': '43',\n 'department': 'B-13',\n 'description': 'Dreier Offerman Park-Calvert Vaux',\n 'gispropnum': 'B125',\n 'location': 'Bay 46 & Cropsey Ave',\n 'nys_assembly': '47',\n 'nys_senate': '23',\n 'omppropid': 'B125-01',\n 'precinct': '60',\n 'propname': 'Calvert Vaux Park',\n 'retired': False,\n 'sitename': 'Calvert Vaux Park Playground',\n 'subcategory': 'Plgd Within Park',\n 'us_congress': '11',\n 'zipcode': '11214',\n 'multipolygon': {'type': 'MultiPolygon',\n  'coordinates': [[[[-73.99140943598985, 40.58775845097591],\n     [-73.99140923879449, 40.587757908846136],\n     [-73.99140824815159, 40.58775474163144],\n     [-73.99140685824237, 40.58775166263823],\n     [-73.99139483451481, 40.587733390119894],\n     [-73.99138481376232, 40.587718164220924],\n     [-73.99138219078924, 40.587714034224184],\n     [-73.99137525839429, 40.58770312116221],\n     [-73.99134501334551, 40.58765545328694],\n     [-73.99131475652865, 40.587607777297954],\n     [-73.99128504281865, 40.58756239767647],\n     [-73.9912553291502, 40.58751700904193],\n     [-73.99124961432058, 40.58750851847261],\n     [-73.99123235764569, 40.587482883759755],\n     [-73.99122548544916, 40.58747267400183],\n     [-73.99119564178778, 40.587428338953835],\n     [-73.99119253696243, 40.58742372893679],\n     [-73.9911844755201, 40.58741175766152],\n     [-73.99116578635378, 40.58738400389699],\n     [-73.99113594277169, 40.58733966883311],\n     [-73.99112702985859, 40.587326425949044],\n     [-73.991118944821, 40.58731441234264],\n     [-73.99110609923036, 40.587295324756084],\n     [-73.99109208091889, 40.58727456660636],\n     [-73.99108439388048, 40.587263184295196],\n     [-73.9910781689066, 40.587253952546874],\n     [-73.9910774484977, 40.58725294390472],\n     [-73.99107668083882, 40.58725194426416],\n     [-73.99107587774097, 40.58725096263129],\n     [-73.99107502738957, 40.587250017015734],\n     [-73.99107412978822, 40.58724908040168],\n     [-73.99107319674671, 40.587248170800564],\n     [-73.99107221645286, 40.587247288211486],\n     [-73.9910712007189, 40.58724643263534],\n     [-73.99107014954473, 40.58724560407217],\n     [-73.9910690629304, 40.58724480252192],\n     [-73.99106792906373, 40.58724402798366],\n     [-73.9910667715691, 40.58724328045927],\n     [-73.99106662747184, 40.587243194898356],\n     [-73.99106557863314, 40.58724256895302],\n     [-73.99106435025577, 40.58724189346498],\n     [-73.99106309825044, 40.58724124499079],\n     [-73.99106182261713, 40.58724062353044],\n     [-73.99106051154125, 40.58724004709348],\n     [-73.99105917683744, 40.58723949767036],\n     [-73.99105781850442, 40.587238984266314],\n     [-73.99105643536052, 40.58723851048335],\n     [-73.991055042763, 40.587238065516416],\n     [-73.99105361354127, 40.58723766917485],\n     [-73.99105218431586, 40.587237299848965],\n     [-73.99105073145996, 40.58723697644796],\n     [-73.99104926678851, 40.587236678260645],\n     [-73.99104777848537, 40.58723643500337],\n     [-73.99104629017857, 40.5872362187618],\n     [-73.99104480186574, 40.587236047546355],\n     [-73.99104328992371, 40.587235912349996],\n     [-73.99104177797692, 40.58723581317456],\n     [-73.99104026602402, 40.587235759025255],\n     [-73.9910387540663, 40.587235740896894],\n     [-73.99103724210254, 40.58723576779467],\n     [-73.99103573013399, 40.58723583071337],\n     [-73.99103421816055, 40.58723592965296],\n     [-73.99103271799325, 40.587236073619636],\n     [-73.99103121782112, 40.587236253607216],\n     [-73.99102972945634, 40.58723646961666],\n     [-73.99102825289766, 40.587236730653146],\n     [-73.99102678932698, 40.587237032214176],\n     [-73.99102533520235, 40.587237360791626],\n     [-73.99102390587669, 40.5872377388998],\n     [-73.99102248835955, 40.58723814402456],\n     [-73.9910210944607, 40.58723859417737],\n     [-73.9910197123692, 40.58723908035198],\n     [-73.99101836571064, 40.58723959354505],\n     [-73.99101703322025, 40.58724015446694],\n     [-73.99101573143858, 40.58724073700382],\n     [-73.9910064819121, 40.58724505969295],\n     [-73.9910064299352, 40.587245084002994],\n     [-73.99100637323303, 40.587245111014255],\n     [-73.99095511925415, 40.5872690906302],\n     [-73.9908961360226, 40.587296695118155],\n     [-73.99083714329362, 40.58732429237086],\n     [-73.9907781599646, 40.58735189679815],\n     [-73.99071916713802, 40.58737949399011],\n     [-73.9906601837116, 40.58740709745617],\n     [-73.99065433273653, 40.58740983457146],\n     [-73.99060119196864, 40.58743469548803],\n     [-73.99056265085815, 40.587452733414004],\n     [-73.99054220844452, 40.58746229979391],\n     [-73.9904832154231, 40.58748989596398],\n     [-73.99046333174299, 40.58749919942321],\n     [-73.99044911004125, 40.58750585401008],\n     [-73.99042423180241, 40.587517493905445],\n     [-73.9903652386824, 40.58754509721892],\n     [-73.99034461192893, 40.58755474819734],\n     [-73.99030625496434, 40.5875726941992],\n     [-73.99024726174663, 40.58760029835251],\n     [-73.99024356543997, 40.58760202794407],\n     [-73.99018827793107, 40.58762789527208],\n     [-73.9901292940657, 40.58765549936546],\n     [-73.99007030070278, 40.58768309622351],\n     [-73.99006023713089, 40.58768780599101],\n     [-73.99005896722356, 40.58768840022658],\n     [-73.99001131673988, 40.587710700256224],\n     [-73.98995232327951, 40.587738297053555],\n     [-73.98993879372404, 40.58774462925027],\n     [-73.98989333921904, 40.58776590102552],\n     [-73.98983434684234, 40.58779349776226],\n     [-73.98980073375775, 40.58780922782666],\n     [-73.98978927737903, 40.58781458942565],\n     [-73.98977536150319, 40.587821101673434],\n     [-73.98976336407915, 40.58782671266659],\n     [-73.98973522281126, 40.58783987490664],\n     [-73.98971636784785, 40.58784869744882],\n     [-73.98971514278618, 40.58784951861641],\n     [-73.98971394607037, 40.58785036320016],\n     [-73.98971278833073, 40.587851236604166],\n     [-73.98971167783465, 40.587852146033306],\n     [-73.98971060276989, 40.58785309148656],\n     [-73.9897095749515, 40.58785405495446],\n     [-73.98970859437811, 40.587855045442275],\n     [-73.98970764923749, 40.58785606294898],\n     [-73.9897067631541, 40.58785710747669],\n     [-73.98970592431711, 40.58785817001908],\n     [-73.98970512091283, 40.5878592595803],\n     [-73.98970438837954, 40.587860367158356],\n     [-73.98970369128033, 40.58786149275008],\n     [-73.98970305323982, 40.587862636357535],\n     [-73.98970246244572, 40.58786379797967],\n     [-73.98970193071038, 40.58786497761758],\n     [-73.98970144622278, 40.587866166264966],\n     [-73.98970102079527, 40.58786736392287],\n     [-73.98970065442646, 40.587868579596496],\n     [-73.98970034711776, 40.58786980428069],\n     [-73.98970008705824, 40.587871028969104],\n     [-73.98969988605884, 40.58787226266804],\n     [-73.98969973230726, 40.58787350537642],\n     [-73.98969964942947, 40.58787474809122],\n     [-73.98969961380088, 40.58787599081021],\n     [-73.98969963723381, 40.58787723353447],\n     [-73.98969971972824, 40.58787847626408],\n     [-73.9896998612842, 40.58787971899898],\n     [-73.98970006190305, 40.58788095273391],\n     [-73.98970031804085, 40.58788217926965],\n     [-73.98970061670352, 40.58788340220706],\n     [-73.98970076546202, 40.587883898408755],\n     [-73.98970098269741, 40.58788461794639],\n     [-73.98970139594334, 40.58788581567943],\n     [-73.98970186825079, 40.58788701341779],\n     [-73.98970239962388, 40.58788818414576],\n     [-73.98970297824765, 40.587889345872725],\n     [-73.98970361593435, 40.587890498599684],\n     [-73.98970430087446, 40.587891624315226],\n     [-73.9897050330666, 40.58789273202453],\n     [-73.98970582432165, 40.58789383073388],\n     [-73.98970666283152, 40.58789489342651],\n     [-73.98971149314985, 40.587900829208365],\n     [-73.9897421757321, 40.587938519753216],\n     [-73.989777535147, 40.587981962348394],\n     [-73.98981289224626, 40.58802539952913],\n     [-73.989816726991, 40.588030109606],\n     [-73.98984824348565, 40.58806883489724],\n     [-73.98988360185729, 40.588112277459146],\n     [-73.98991896027594, 40.588155713706264],\n     [-73.98992073416201, 40.58815789402882],\n     [-73.98992078966974, 40.58815796247345],\n     [-73.98992592236652, 40.58816426838774],\n     [-73.98995291450917, 40.58819743432267],\n     [-73.98995431047194, 40.588199149941644],\n     [-73.98995523048467, 40.588200280178825],\n     [-73.9899757790187, 40.58822552724344],\n     [-73.98997750212484, 40.58822764452402],\n     [-73.98998966898158, 40.588242592470316],\n     [-73.99001694935774, 40.58827610421604],\n     [-73.99002502871944, 40.58828602868443],\n     [-73.99002890482991, 40.588290789186935],\n     [-73.99006038732209, 40.58832946488731],\n     [-73.99007112282258, 40.58834261255496],\n     [-73.99007275853981, 40.588344617261114],\n     [-73.990076628754, 40.588349357049495],\n     [-73.99008085563763, 40.58835453542338],\n     [-73.99009289027232, 40.588369278027855],\n     [-73.99009359889276, 40.588370106570316],\n     [-73.99009434295306, 40.58837091710543],\n     [-73.99009513426695, 40.58837170062891],\n     [-73.9900959492083, 40.58837246614395],\n     [-73.99009629644726, 40.58837277145129],\n     [-73.99009679958951, 40.58837321365159],\n     [-73.99009768541192, 40.588373934146546],\n     [-73.99009860667414, 40.588374636634086],\n     [-73.99009956337746, 40.588375313009536],\n     [-73.9901005437112, 40.588375951564984],\n     [-73.99010154767093, 40.588376582017794],\n     [-73.9901025870732, 40.58837717645269],\n     [-73.99010365010426, 40.58837774387394],\n     [-73.99010473676542, 40.58837827527625],\n     [-73.99010584705408, 40.58837878867016],\n     [-73.9901069809729, 40.588379266045074],\n     [-73.9901081385205, 40.588379716406386],\n     [-73.99010931969823, 40.58838013074878],\n     [-73.99011051269233, 40.58838051807646],\n     [-73.99011171750288, 40.58838087838947],\n     [-73.99011294594357, 40.58838120268357],\n     [-73.99011418620198, 40.58838149095776],\n     [-73.9901154382768, 40.588381752217224],\n     [-73.99011670216929, 40.588381977456756],\n     [-73.99011797787958, 40.58838216667636],\n     [-73.99011925359518, 40.588382319875045],\n     [-73.99012054112718, 40.588382446059015],\n     [-73.99012184047687, 40.58838253622305],\n     [-73.99012312801955, 40.588382590365136],\n     [-73.99012442737994, 40.588382608487294],\n     [-73.99012572674432, 40.58838259959372],\n     [-73.99012702611537, 40.58838254567397],\n     [-73.99012831367797, 40.588382464737485],\n     [-73.99012960124593, 40.588382347780104],\n     [-73.99013088881922, 40.58838219480171],\n     [-73.9901321645841, 40.58838201480663],\n     [-73.99013342854185, 40.58838179878959],\n     [-73.99013468069256, 40.58838154675057],\n     [-73.99013592103623, 40.588381258689594],\n     [-73.99013714957145, 40.588380943611924],\n     [-73.9901383662996, 40.58838059251227],\n     [-73.99013957121927, 40.58838021439588],\n     [-73.99014074070715, 40.58837980025554],\n     [-73.99014191019899, 40.58837935909946],\n     [-73.99014304425764, 40.58837889092468],\n     [-73.99014416650905, 40.58837838762841],\n     [-73.99015240031375, 40.588374533194155],\n     [-73.99015338317233, 40.588374074011554],\n     [-73.99019288179105, 40.58835560945801],\n     [-73.99020565303793, 40.58834963917743],\n     [-73.99026378811466, 40.588322446513864],\n     [-73.99032193141353, 40.58829524841831],\n     [-73.99038006521538, 40.588268048491415],\n     [-73.99043820841864, 40.588240856640596],\n     [-73.99049008942625, 40.58821658193761],\n     [-73.9904928265328, 40.58821530161994],\n     [-73.9904963421257, 40.58821365755525],\n     [-73.9905518627202, 40.58818767303157],\n     [-73.99060738327162, 40.58816168758043],\n     [-73.99063929879803, 40.58814674870226],\n     [-73.9906416094452, 40.588145667362],\n     [-73.99066289551097, 40.588135703902836],\n     [-73.99069118438575, 40.58812246400289],\n     [-73.99070497856022, 40.588116007466965],\n     [-73.99071841597596, 40.5881097183979],\n     [-73.99072534082161, 40.588106477973696],\n     [-73.99077393639763, 40.58808373376665],\n     [-73.99082944732626, 40.58805774910775],\n     [-73.99088496884279, 40.58803176442282],\n     [-73.9909404796851, 40.58800577880959],\n     [-73.99098447984483, 40.587985086443524],\n     [-73.99099699343012, 40.58797920070375],\n     [-73.99105350713012, 40.587952622570086],\n     [-73.99111001960294, 40.58792605161259],\n     [-73.99116653321298, 40.58789947342319],\n     [-73.99122304559597, 40.58787290150948],\n     [-73.9912795591161, 40.58784632326432],\n     [-73.99131747300069, 40.58782848946994],\n     [-73.99133606314132, 40.58781974499064],\n     [-73.99135175318402, 40.58781235827921],\n     [-73.99137632187961, 40.58780079200305],\n     [-73.99138947802403, 40.58779459738916],\n     [-73.99139053174406, 40.58779410127978],\n     [-73.99139174848628, 40.58779350702552],\n     [-73.99139295342192, 40.58779286774421],\n     [-73.99139412292308, 40.587792210449834],\n     [-73.99139525699313, 40.58779150812655],\n     [-73.99139636744091, 40.58779078779102],\n     [-73.99139744245528, 40.58779004043715],\n     [-73.99139848203737, 40.58778925705968],\n     [-73.99139948618495, 40.58778845566907],\n     [-73.99140045490027, 40.587787618254914],\n     [-73.99140138818103, 40.58778676282756],\n     [-73.9914022742161, 40.587785880381],\n     [-73.99140312481664, 40.5877849799213],\n     [-73.99140393998373, 40.58778405244325],\n     [-73.99140470790394, 40.587783106951214],\n     [-73.99140542857735, 40.58778214344515],\n     [-73.99140611381621, 40.58778116192597],\n     [-73.99140675180823, 40.58778016239277],\n     [-73.9914073425534, 40.587779144845605],\n     [-73.9914078860506, 40.58777811828964],\n     [-73.991407909682, 40.58777806516052],\n     [-73.99140838230093, 40.58777707371969],\n     [-73.99140884311556, 40.58777602014182],\n     [-73.99140924487108, 40.587774948549075],\n     [-73.99140959937861, 40.58777386794762],\n     [-73.99140991844922, 40.58777278734346],\n     [-73.99141017846078, 40.58777168872443],\n     [-73.99141037586728, 40.58777059010068],\n     [-73.99141054492533, 40.58776948246968],\n     [-73.99141066319063, 40.5877683748348],\n     [-73.9914107223945, 40.58776726719551],\n     [-73.99141073435041, 40.58776615054746],\n     [-73.99141069905603, 40.587765042901154],\n     [-73.99141060470025, 40.58776393525039],\n     [-73.99141047490761, 40.587762827596976],\n     [-73.99141027778496, 40.587761719938534],\n     [-73.99141025889938, 40.5877616109738],\n     [-73.99141004994925, 40.58776062128305],\n     [-73.99140976659471, 40.587759531628635],\n     [-73.99140943598985, 40.58775845097591]]]]}}"
                    },
                    "metadata": {}
                }
            ]
        },
        {
            "metadata": {},
            "cell_type": "markdown",
            "source": "<span style=\"font-family:verdana\"><span style=\"font-size:18px\"> I will transform the above datas in a dataframe called *new york parks*."
        },
        {
            "metadata": {},
            "cell_type": "code",
            "source": "# define the dataframe columns\ncolumn_names = ['name','acres', 'latitude', 'longitude'] \n\n# instantiate the dataframe\nnewyork_parks_2 = pd.DataFrame(columns=column_names)",
            "execution_count": 19,
            "outputs": []
        },
        {
            "metadata": {},
            "cell_type": "code",
            "source": "for data in newyork_parks:\n    for i in range(1736): #\n    \n        site = data['sitename']\n        #acres = data['acres']\n        lat= data['multipolygon']['coordinates'][0][0][0][0]\n        long= data['multipolygon']['coordinates'][0][0][0][1]\n    #location = data['location']\n    #borough = data['borough'] \n    \n        \n    #neighborhood_latlon = data['multipolygon']['coordinates']\n    #neighborhood_lat = neighborhood_latlon[0]\n    #neighborhood_lon = neighborhood_latlon[1]\n    \n    newyork_parks_2 = newyork_parks_2.append({'name': site,'acres': acres,'latitude': lat, 'longitude': long}, ignore_index=True)\n    \n    #newyork_parks_2 = newyork_parks_2.append({'Acres': acres,'Site Name': site,\n                                              #'Location': location,\n                                              #'Borough': borough}, ignore_index=True)",
            "execution_count": 22,
            "outputs": []
        },
        {
            "metadata": {
                "scrolled": false
            },
            "cell_type": "code",
            "source": "# Let's see the first 5 rows of the dataframe\n\nnewyork_parks_2.head()",
            "execution_count": 23,
            "outputs": [
                {
                    "output_type": "execute_result",
                    "execution_count": 23,
                    "data": {
                        "text/plain": "                           name       acres   latitude  longitude\n0  Calvert Vaux Park Playground  2.27347393 -73.991409  40.587758\n1       World's Fair Playground  2.68940812 -73.845859  40.736499\n2          Charybdis Playground  1.05413028 -73.922926  40.779626\n3              Northwest Corner  6.37607361 -73.956657  40.799940\n4              Mullaly Plgd (2)  0.29690903 -73.923352  40.834063",
                        "text/html": "<div>\n<style scoped>\n    .dataframe tbody tr th:only-of-type {\n        vertical-align: middle;\n    }\n\n    .dataframe tbody tr th {\n        vertical-align: top;\n    }\n\n    .dataframe thead th {\n        text-align: right;\n    }\n</style>\n<table border=\"1\" class=\"dataframe\">\n  <thead>\n    <tr style=\"text-align: right;\">\n      <th></th>\n      <th>name</th>\n      <th>acres</th>\n      <th>latitude</th>\n      <th>longitude</th>\n    </tr>\n  </thead>\n  <tbody>\n    <tr>\n      <th>0</th>\n      <td>Calvert Vaux Park Playground</td>\n      <td>2.27347393</td>\n      <td>-73.991409</td>\n      <td>40.587758</td>\n    </tr>\n    <tr>\n      <th>1</th>\n      <td>World's Fair Playground</td>\n      <td>2.68940812</td>\n      <td>-73.845859</td>\n      <td>40.736499</td>\n    </tr>\n    <tr>\n      <th>2</th>\n      <td>Charybdis Playground</td>\n      <td>1.05413028</td>\n      <td>-73.922926</td>\n      <td>40.779626</td>\n    </tr>\n    <tr>\n      <th>3</th>\n      <td>Northwest Corner</td>\n      <td>6.37607361</td>\n      <td>-73.956657</td>\n      <td>40.799940</td>\n    </tr>\n    <tr>\n      <th>4</th>\n      <td>Mullaly Plgd (2)</td>\n      <td>0.29690903</td>\n      <td>-73.923352</td>\n      <td>40.834063</td>\n    </tr>\n  </tbody>\n</table>\n</div>"
                    },
                    "metadata": {}
                }
            ]
        },
        {
            "metadata": {},
            "cell_type": "code",
            "source": "",
            "execution_count": null,
            "outputs": []
        }
    ],
    "metadata": {
        "kernelspec": {
            "name": "python3",
            "display_name": "Python 3.6",
            "language": "python"
        },
        "language_info": {
            "name": "python",
            "version": "3.6.9",
            "mimetype": "text/x-python",
            "codemirror_mode": {
                "name": "ipython",
                "version": 3
            },
            "pygments_lexer": "ipython3",
            "nbconvert_exporter": "python",
            "file_extension": ".py"
        }
    },
    "nbformat": 4,
    "nbformat_minor": 1
}